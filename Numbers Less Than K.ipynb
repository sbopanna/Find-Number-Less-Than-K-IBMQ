{
 "cells": [
  {
   "cell_type": "code",
   "execution_count": null,
   "id": "097f9a13-ecfc-4cf7-bed7-94b3d5011663",
   "metadata": {},
   "outputs": [],
   "source": [
    "# This is an attempt to solve the screening task to find numbers that are less than a reference value using Quantum programming\n",
    "# This task is a part of skills assessment for the QOSF's Quantum Computing Mentorship Program - cohort 9\n",
    "# Programming this in the Quantum simulator provided by IBMQ the open source platform that I am most familiar with"
   ]
  },
  {
   "cell_type": "code",
   "execution_count": 57,
   "id": "978e578a-9553-419d-8148-4ff4ef65c617",
   "metadata": {
    "tags": []
   },
   "outputs": [
    {
     "name": "stdout",
     "output_type": "stream",
     "text": [
      "Requirement already satisfied: qiskit in /opt/conda/lib/python3.10/site-packages (1.0.2)\n",
      "Requirement already satisfied: rustworkx>=0.14.0 in /opt/conda/lib/python3.10/site-packages (from qiskit) (0.14.0)\n",
      "Requirement already satisfied: numpy<2,>=1.17 in /opt/conda/lib/python3.10/site-packages (from qiskit) (1.23.5)\n",
      "Requirement already satisfied: scipy>=1.5 in /opt/conda/lib/python3.10/site-packages (from qiskit) (1.12.0)\n",
      "Requirement already satisfied: sympy>=1.3 in /opt/conda/lib/python3.10/site-packages (from qiskit) (1.11.1)\n",
      "Requirement already satisfied: dill>=0.3 in /opt/conda/lib/python3.10/site-packages (from qiskit) (0.3.6)\n",
      "Requirement already satisfied: python-dateutil>=2.8.0 in /opt/conda/lib/python3.10/site-packages (from qiskit) (2.8.2)\n",
      "Requirement already satisfied: stevedore>=3.0.0 in /opt/conda/lib/python3.10/site-packages (from qiskit) (5.1.0)\n",
      "Requirement already satisfied: typing-extensions in /opt/conda/lib/python3.10/site-packages (from qiskit) (4.9.0)\n",
      "Requirement already satisfied: symengine>=0.11 in /opt/conda/lib/python3.10/site-packages (from qiskit) (0.11.0)\n",
      "Requirement already satisfied: six>=1.5 in /opt/conda/lib/python3.10/site-packages (from python-dateutil>=2.8.0->qiskit) (1.16.0)\n",
      "Requirement already satisfied: pbr!=2.1.0,>=2.0.0 in /opt/conda/lib/python3.10/site-packages (from stevedore>=3.0.0->qiskit) (6.0.0)\n",
      "Requirement already satisfied: mpmath>=0.19 in /opt/conda/lib/python3.10/site-packages (from sympy>=1.3->qiskit) (1.2.1)\n",
      "Note: you may need to restart the kernel to use updated packages.\n"
     ]
    }
   ],
   "source": [
    "# Install and import the relevant qiskit packages\n",
    "%pip install qiskit\n",
    "from qiskit import QuantumRegister, ClassicalRegister, QuantumCircuit, transpile\n",
    "from qiskit.circuit.library import IntegerComparator\n",
    "from qiskit_aer import Aer"
   ]
  },
  {
   "cell_type": "code",
   "execution_count": 58,
   "id": "e1abd0d2-ef69-4ccf-a052-518b98932359",
   "metadata": {
    "tags": []
   },
   "outputs": [],
   "source": [
    "# instantiate the AER simulator to run the circuit\n",
    "backend=Aer.get_backend('aer_simulator')"
   ]
  },
  {
   "cell_type": "code",
   "execution_count": 59,
   "id": "6e34fdec-2376-4397-936f-6efc4a0ae95c",
   "metadata": {
    "tags": []
   },
   "outputs": [],
   "source": [
    "# Array to hold the boolean representation of the number to be compared    \n",
    "vectorbit=[]\n",
    "# Array to hold the result register value for the numbers compared\n",
    "marksmallnum=[]\n",
    "# Array to hold the list of small numbers identified\n",
    "smallnumlist=[]"
   ]
  },
  {
   "cell_type": "code",
   "execution_count": 60,
   "id": "ec52d5db-9143-4c02-9b05-092d4a35da5d",
   "metadata": {
    "tags": []
   },
   "outputs": [],
   "source": [
    "# Function to consttuct the quantum circuit to compare the two integers\n",
    "# This function takes the constant integer to be compared and the bit string representation of the number from the list.\n",
    "# A quantum circuit is built using the IntegerComparator function \n",
    "def construct_circuit_and_compare(k,bitstr):\n",
    "    \n",
    "    # reverse the bitstring since IBMQ is little endian \n",
    "    revstr=bitstr[::-1]\n",
    "    l=len(bitstr)\n",
    "    \n",
    "    # we need one qubit each to represent one bit, so construct a Quantum register with as many qubits\n",
    "    q = QuantumRegister(l,'q')\n",
    "    # One classical register to measure the output\n",
    "    c = ClassicalRegister(1,'c')\n",
    "\n",
    "    circuit = QuantumCircuit(q,c)\n",
    "  \n",
    "    # Loading classical information to qubit by applying Pauli X gate to set the qubit to 1 where the classical bit is 1\n",
    "    for i in range(l):\n",
    "        if revstr[i]=='1':\n",
    "            circuit.x(q[i])\n",
    "            \n",
    "    # Use IntegerComparator to compare the two numbers - This operation is based on two's complement implementation of binary subtraction but only uses carry bits and no actual result bits. \n",
    "    # The geq flag controls the interpretation of the result if the most significant carry bit (the results bit) is 1, the ≥ condition is True otherwise it is False\n",
    "    \n",
    "    comparator = IntegerComparator(num_state_qubits=2, value=k, geq=True)\n",
    "    circuit = circuit.compose(comparator)\n",
    "    circuit.measure(q[l-1],c[0])\n",
    "\n",
    "    print(circuit)\n",
    "    # run the circuit \n",
    "    new_circuit = transpile(circuit, backend)\n",
    "    job = backend.run(new_circuit)\n",
    "    counts = job.result().get_counts()\n",
    "\n",
    "    \n",
    "    # Read register value to extract the result\n",
    "    Answer = [(k[::-1],v) for k,v in counts.items()]\n",
    "    Answer.sort(key = lambda x: x[1], reverse=True)\n",
    "    Y = []\n",
    "    for k, v in Answer: Y.append( [ int(c) for c in k ] )\n",
    "    #Add the result register value to a reference array\n",
    "    marksmallnum.append(Y[0][0])\n",
    "   \n",
    "    #reset the job and counts parameters and the buffer used to store the reverse of the binary string for the number\n",
    "    job=\"\"\n",
    "    counts=\"\"\n",
    "    revstr=\"\""
   ]
  },
  {
   "cell_type": "code",
   "execution_count": 61,
   "id": "733da6f2-1b60-4c0c-8429-4948afba1f92",
   "metadata": {
    "tags": []
   },
   "outputs": [],
   "source": [
    "# Custom function that accepts an integer 'k' and a list of integers that need to be compared against k to determine the ones that are smaller than k\n",
    "# This function converts the integers in the list to their boolean representations and then calls a secondary function that is used to compare the integers using a quantum circuit\n",
    "# The state of the result (which marks a 0 if the number is less than k) read from the quantum circuit is used at the end to identify the smaller numbers from the list and print the result set\n",
    "\n",
    "def less_than_k(k,list):\n",
    "    print(k)\n",
    "\n",
    "    \n",
    "    n=len(list)\n",
    "    #print(\"list length \",n)\n",
    "    \n",
    "        \n",
    "    vector=np.asarray(list, dtype=int)\n",
    "   \n",
    "    m=len('{0:b}'.format(max(vector)))\n",
    "    \n",
    "    #print(\"vectorbit len =\",m)\n",
    "    \n",
    "    vectorbit=[]\n",
    "    #convert to boolen representation of the numbers in the list\n",
    "    for item in list:\n",
    "        vectorbit.append('{0:0{size}b}'.format(item, size=m))\n",
    "    \n",
    "    for i in range(n):\n",
    "        #print(\"i = \",i)\n",
    "        print(\"vectorbit[i] = \",vectorbit[i])\n",
    "        construct_circuit_and_compare(k,vectorbit[i])\n",
    "    \n",
    "    #get length of the array containing identified numbers less than k\n",
    "    #smallnumarrlen=len(marksmallnum)\n",
    "    \n",
    "    #print(\"smallnumarrlen = \",smallnumarrlen)\n",
    "\n",
    "    #construct result array\n",
    "    if len(marksmallnum) > 0:\n",
    "        indices = [index for (index, item) in enumerate(marksmallnum) if item == 0]\n",
    "        for j in indices:\n",
    "            smallnumlist.append(list[j])\n",
    "            \n",
    "    # print the original list for reference\n",
    "    print(\" original list \", k , list)\n",
    "    # display result array    \n",
    "    print(\" numbers less than \",k,\" are \",smallnumlist)"
   ]
  },
  {
   "cell_type": "code",
   "execution_count": 62,
   "id": "b8a6790d-b935-41d0-85c2-1439e9c91a08",
   "metadata": {
    "tags": []
   },
   "outputs": [
    {
     "name": "stdout",
     "output_type": "stream",
     "text": [
      "7\n",
      "vectorbit[i] =  0100\n",
      "          ┌──────┐   \n",
      "q_0: ─────┤0     ├───\n",
      "          │      │   \n",
      "q_1: ─────┤1     ├───\n",
      "     ┌───┐│  cmp │   \n",
      "q_2: ┤ X ├┤2     ├───\n",
      "     └───┘│      │┌─┐\n",
      "q_3: ─────┤3     ├┤M├\n",
      "          └──────┘└╥┘\n",
      "c: 1/══════════════╩═\n",
      "                   0 \n",
      "vectorbit[i] =  1001\n",
      "     ┌───┐┌──────┐   \n",
      "q_0: ┤ X ├┤0     ├───\n",
      "     └───┘│      │   \n",
      "q_1: ─────┤1     ├───\n",
      "          │  cmp │   \n",
      "q_2: ─────┤2     ├───\n",
      "     ┌───┐│      │┌─┐\n",
      "q_3: ┤ X ├┤3     ├┤M├\n",
      "     └───┘└──────┘└╥┘\n",
      "c: 1/══════════════╩═\n",
      "                   0 \n",
      "vectorbit[i] =  1011\n",
      "     ┌───┐┌──────┐   \n",
      "q_0: ┤ X ├┤0     ├───\n",
      "     ├───┤│      │   \n",
      "q_1: ┤ X ├┤1     ├───\n",
      "     └───┘│  cmp │   \n",
      "q_2: ─────┤2     ├───\n",
      "     ┌───┐│      │┌─┐\n",
      "q_3: ┤ X ├┤3     ├┤M├\n",
      "     └───┘└──────┘└╥┘\n",
      "c: 1/══════════════╩═\n",
      "                   0 \n",
      "vectorbit[i] =  1110\n",
      "          ┌──────┐   \n",
      "q_0: ─────┤0     ├───\n",
      "     ┌───┐│      │   \n",
      "q_1: ┤ X ├┤1     ├───\n",
      "     ├───┤│  cmp │   \n",
      "q_2: ┤ X ├┤2     ├───\n",
      "     ├───┤│      │┌─┐\n",
      "q_3: ┤ X ├┤3     ├┤M├\n",
      "     └───┘└──────┘└╥┘\n",
      "c: 1/══════════════╩═\n",
      "                   0 \n",
      "vectorbit[i] =  0001\n",
      "     ┌───┐┌──────┐   \n",
      "q_0: ┤ X ├┤0     ├───\n",
      "     └───┘│      │   \n",
      "q_1: ─────┤1     ├───\n",
      "          │  cmp │   \n",
      "q_2: ─────┤2     ├───\n",
      "          │      │┌─┐\n",
      "q_3: ─────┤3     ├┤M├\n",
      "          └──────┘└╥┘\n",
      "c: 1/══════════════╩═\n",
      "                   0 \n",
      "vectorbit[i] =  1101\n",
      "     ┌───┐┌──────┐   \n",
      "q_0: ┤ X ├┤0     ├───\n",
      "     └───┘│      │   \n",
      "q_1: ─────┤1     ├───\n",
      "     ┌───┐│  cmp │   \n",
      "q_2: ┤ X ├┤2     ├───\n",
      "     ├───┤│      │┌─┐\n",
      "q_3: ┤ X ├┤3     ├┤M├\n",
      "     └───┘└──────┘└╥┘\n",
      "c: 1/══════════════╩═\n",
      "                   0 \n",
      "vectorbit[i] =  0110\n",
      "          ┌──────┐   \n",
      "q_0: ─────┤0     ├───\n",
      "     ┌───┐│      │   \n",
      "q_1: ┤ X ├┤1     ├───\n",
      "     ├───┤│  cmp │   \n",
      "q_2: ┤ X ├┤2     ├───\n",
      "     └───┘│      │┌─┐\n",
      "q_3: ─────┤3     ├┤M├\n",
      "          └──────┘└╥┘\n",
      "c: 1/══════════════╩═\n",
      "                   0 \n",
      "vectorbit[i] =  1111\n",
      "     ┌───┐┌──────┐   \n",
      "q_0: ┤ X ├┤0     ├───\n",
      "     ├───┤│      │   \n",
      "q_1: ┤ X ├┤1     ├───\n",
      "     ├───┤│  cmp │   \n",
      "q_2: ┤ X ├┤2     ├───\n",
      "     ├───┤│      │┌─┐\n",
      "q_3: ┤ X ├┤3     ├┤M├\n",
      "     └───┘└──────┘└╥┘\n",
      "c: 1/══════════════╩═\n",
      "                   0 \n",
      " original list  7 [4, 9, 11, 14, 1, 13, 6, 15]\n",
      " numbers less than  7  are  [4, 1, 6]\n"
     ]
    }
   ],
   "source": [
    "# Test Data set\n",
    "less_than_k(7,[4,9,11,14,1,13,6,15])\n",
    "#less_than_k(8,[4,9,12,5,7,13,15,6,3])\n",
    "\n",
    "# reset the placeholder vectors to run the next iteration of comparison\n",
    "vectorbit=[]\n",
    "marksmallnum=[]\n",
    "smallnumlist=[]"
   ]
  },
  {
   "cell_type": "code",
   "execution_count": null,
   "id": "ed9aa2d3-df2d-48d8-bacb-2b7646865d6d",
   "metadata": {},
   "outputs": [],
   "source": [
    "# References \n",
    "# [1] Deutsch, David, and Richard Jozsa. \"Rapid solution of problems by quantum computation.\" Proceedings of the Royal Society of London. Series A: Mathematical and Physical Sciences 439.1907 (1992): 553-558.\n",
    "# [2] Bernstein, Ethan, and Umesh Vazirani. \"Quantum complexity theory.\" SIAM Journal on computing 26.5 (1997): 1411-1473.\n",
    "# [3] Grover, Lov K. , \"A fast quantum mechanical algorithm for database search\", Proceedings of the 28th Annual ACM Symposium on the Theory of Computing (1996), arXiv:quant-ph/9605043\n",
    "# [4] Qiskit Documentation - https://docs.quantum.ibm.com/api/qiskit/0.26/\n",
    "# [5] John A. Cortese, Timothy M. Braje \"Loading Classical Data into a Quantum Computer\"\n",
    "# [6] Rubens Viana Ramos, Paulo Benício Melo de Sousa and David Sena Oliveira, \"Solving mathematical problems with quantum search algorithm\"\n",
    "# [7] Ashish Mandoi, \"Quantum Search on an unstructured input -  https://github.com/AsishMandoi/quantum-search\""
   ]
  }
 ],
 "metadata": {
  "kernelspec": {
   "display_name": "Qiskit v1.0.2 (ipykernel)",
   "language": "python",
   "name": "python3"
  },
  "language_info": {
   "codemirror_mode": {
    "name": "ipython",
    "version": 3
   },
   "file_extension": ".py",
   "mimetype": "text/x-python",
   "name": "python",
   "nbconvert_exporter": "python",
   "pygments_lexer": "ipython3",
   "version": "3.10.8"
  },
  "widgets": {
   "application/vnd.jupyter.widget-state+json": {
    "state": {},
    "version_major": 2,
    "version_minor": 0
   }
  }
 },
 "nbformat": 4,
 "nbformat_minor": 5
}

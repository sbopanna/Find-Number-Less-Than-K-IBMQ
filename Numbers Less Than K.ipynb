{
 "cells": [
  {
   "cell_type": "code",
   "execution_count": 1,
   "id": "4277f0e2-0646-466d-a1a4-991278707654",
   "metadata": {
    "tags": []
   },
   "outputs": [],
   "source": [
    "# This is an attempt to solve the screening task to find numbers that are less than a reference value using Quantum programming\n",
    "# This task is a part of skills assessment for the QOSF's Quantum Computing Mentorship Program - cohort 9\n",
    "# Programming this in the Quantum simulator provided by IBMQ the open source platform "
   ]
  },
  {
   "cell_type": "code",
   "execution_count": 2,
   "id": "fadb4655-4160-44b9-b294-d09a3d8e5ddf",
   "metadata": {
    "tags": []
   },
   "outputs": [],
   "source": [
    "# Import the relevant Libraries from qiskit package\n",
    "#%pip install qiskit\n",
    "from qiskit.circuit import QuantumCircuit\n",
    "from qiskit.circuit.library import IntegerComparator\n",
    "from qiskit import transpile\n",
    "from qiskit_aer import Aer"
   ]
  },
  {
   "cell_type": "code",
   "execution_count": 3,
   "id": "06c31b13-915a-4656-abbb-bea38862975f",
   "metadata": {
    "tags": []
   },
   "outputs": [],
   "source": [
    "# This is the main calling function that takes in an integer value 'k' that is the positive number to compare in list of numnbers list_n\n",
    "# This function calls other anciliary functions to build and run the quantum circuit and retrieve the numbers identified as lesser than k\n",
    "# The length of the binary representation for the largest number in the list (list_n) determines the number of qubits required in the comparator circuit and hence the depth of the circuit\n",
    "# For E.g., if the largest number is in the range between 8 and 15, then, length of binary string is 4 and hence 4 qubits will be needed, else, if\n",
    "# largest number is between 16 and 31, then the length of binary string is 5 and hence 5 qubits would be required\n",
    "def less_than_k(k,list_n):\n",
    "    maxnum=max(list_n)\n",
    "    size = len(bin(maxnum)[2:])\n",
    "    circ = build_comparator_circuit(size, k)\n",
    "    resultset=run_comparator_circuit(circ)\n",
    "    return retrieve_num_less_than_k(resultset,list_n)"
   ]
  },
  {
   "cell_type": "code",
   "execution_count": 4,
   "id": "5a0ea23c-b6fb-455b-8d95-eb3a1a41a106",
   "metadata": {
    "tags": []
   },
   "outputs": [],
   "source": [
    "# Function to build and print the circuit, input arguments are size of the Quantum register needed and the value to be compared against\n",
    "# This uses the IntegerComparator function which compares an integer against a static value - the flag 'geq' deteremines if the MSB needs to be set to 1 \n",
    "# when number is greater or lesser (if geq is True, the MSB is set to 1 when number is greater than the value compared against and if false, the MSB is set to 1 when number is lesser thena the value compared against\n",
    "def build_comparator_circuit(size, value):\n",
    "    comp = IntegerComparator(size, value, geq=False, name='Comparator')\n",
    "    circ = QuantumCircuit(2 * size, size + 1)\n",
    "    circ.h(range(size))\n",
    "    circ.append(comp, range(2 * size))\n",
    "    circ.measure(range(size + 1), range(size + 1))\n",
    "    print(\"Circuit \")\n",
    "    print(circ)\n",
    "    return circ"
   ]
  },
  {
   "cell_type": "code",
   "execution_count": 5,
   "id": "7d12051d-dfa0-4774-87b0-164e6f9195aa",
   "metadata": {
    "tags": []
   },
   "outputs": [],
   "source": [
    "# Function to run the quantum circuit - this returns as result set containing the measurements made on the classical register\n",
    "def run_comparator_circuit(ckt):\n",
    "    backend=Aer.get_backend('aer_simulator')\n",
    "    new_circuit = transpile(ckt, backend)\n",
    "    job = backend.run(new_circuit)\n",
    "    return job.result().get_counts()"
   ]
  },
  {
   "cell_type": "code",
   "execution_count": 6,
   "id": "36563421-f165-430b-9c18-62233d2ea8f1",
   "metadata": {
    "tags": []
   },
   "outputs": [],
   "source": [
    "# Function to retrieve the numbers less than the comparator and identify such numbers that exist in the list of numbers provided\n",
    "def retrieve_num_less_than_k(resultset,listofnum):\n",
    "    # Array to store the identified numbers for display\n",
    "    listofnumlessthan_k=[]\n",
    "    listofdecnums=[]\n",
    "\n",
    "    for bitstring in sorted(resultset): \n",
    "        #Since the comparator property geq (greater than equal to) is set to false, the most significant bit is set to 1 where number is less than comparator number\n",
    "        if bitstring[0] == \"1\":\n",
    "            #retrieve the binary string for the number by removing the most significant bit \n",
    "            binstr=bitstring[1:]\n",
    "            #convert to decimal representation\n",
    "            #decnum = int(binstr,2)\n",
    "            listofdecnums.append(int(binstr,2))\n",
    "            #compare if the number identified exists in the original list and add it to the resultsetofnumlessthan_k\n",
    "    [listofnumlessthan_k.append(i) for i in listofdecnums if i in listofnum]\n",
    "    return listofnumlessthan_k"
   ]
  },
  {
   "cell_type": "code",
   "execution_count": 7,
   "id": "d13943cd-f7fd-4142-abd2-22912aec5488",
   "metadata": {
    "tags": []
   },
   "outputs": [
    {
     "name": "stdout",
     "output_type": "stream",
     "text": [
      "Circuit \n",
      "     ┌───┐┌─────────────┐┌─┐            \n",
      "q_0: ┤ H ├┤0            ├┤M├────────────\n",
      "     ├───┤│             │└╥┘┌─┐         \n",
      "q_1: ┤ H ├┤1            ├─╫─┤M├─────────\n",
      "     ├───┤│             │ ║ └╥┘┌─┐      \n",
      "q_2: ┤ H ├┤2            ├─╫──╫─┤M├──────\n",
      "     ├───┤│             │ ║  ║ └╥┘┌─┐   \n",
      "q_3: ┤ H ├┤3            ├─╫──╫──╫─┤M├───\n",
      "     └───┘│  Comparator │ ║  ║  ║ └╥┘┌─┐\n",
      "q_4: ─────┤4            ├─╫──╫──╫──╫─┤M├\n",
      "          │             │ ║  ║  ║  ║ └╥┘\n",
      "q_5: ─────┤5            ├─╫──╫──╫──╫──╫─\n",
      "          │             │ ║  ║  ║  ║  ║ \n",
      "q_6: ─────┤6            ├─╫──╫──╫──╫──╫─\n",
      "          │             │ ║  ║  ║  ║  ║ \n",
      "q_7: ─────┤7            ├─╫──╫──╫──╫──╫─\n",
      "          └─────────────┘ ║  ║  ║  ║  ║ \n",
      "c: 5/═════════════════════╩══╩══╩══╩══╩═\n",
      "                          0  1  2  3  4 \n",
      "Result \n",
      "\n",
      "1,4,6\n"
     ]
    }
   ],
   "source": [
    "# Test Data sets\n",
    "A= less_than_k(7,[4,9,11,14,1,13,6,15])\n",
    "#A = less_than_k(25,[2,3,7,9,4,22,25,1,32])\n",
    "#A = less_than_k(20,[1])\n",
    "#A = less_than_k(22,[4,8,20,23,6,7])\n",
    "#A = less_than_k(25,[8,100,22,50,67,5])\n",
    "\n",
    "print(\"Result \\n\")\n",
    "resstring = ','.join(str(x) for x in A)\n",
    "print(resstring)\n"
   ]
  },
  {
   "cell_type": "code",
   "execution_count": null,
   "id": "1f659b54-5284-4196-8b0e-455f214df142",
   "metadata": {},
   "outputs": [],
   "source": []
  },
  {
   "cell_type": "code",
   "execution_count": null,
   "id": "fe204b39-e519-435c-ae63-7ec1eb93d3ba",
   "metadata": {},
   "outputs": [],
   "source": []
  }
 ],
 "metadata": {
  "kernelspec": {
   "display_name": "Qiskit v1.0.2 (ipykernel)",
   "language": "python",
   "name": "python3"
  },
  "language_info": {
   "codemirror_mode": {
    "name": "ipython",
    "version": 3
   },
   "file_extension": ".py",
   "mimetype": "text/x-python",
   "name": "python",
   "nbconvert_exporter": "python",
   "pygments_lexer": "ipython3",
   "version": "3.10.8"
  },
  "widgets": {
   "application/vnd.jupyter.widget-state+json": {
    "state": {},
    "version_major": 2,
    "version_minor": 0
   }
  }
 },
 "nbformat": 4,
 "nbformat_minor": 5
}
